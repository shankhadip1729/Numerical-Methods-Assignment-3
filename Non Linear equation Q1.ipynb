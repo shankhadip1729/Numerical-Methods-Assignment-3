{
 "cells": [
  {
   "cell_type": "code",
   "execution_count": null,
   "id": "218adc38-5354-4949-9485-ebd545a36195",
   "metadata": {},
   "outputs": [],
   "source": [
    "from scipy.optimize import bisect\n",
    "import numpy as np\n",
    "\n",
    "\n",
    "def f(x):\n",
    "    return np.sin(np.cos(np.exp(x)))\n",
    "\n",
    "a, b = -1, 1\n",
    "\n",
    "root = bisect(f, a, b)\n",
    "\n",
    "value_at_root = f(root)\n",
    "\n",
    "print(f\"Root: {root}\")\n",
    "print(f\"Value at Root: {value_at_root}\")"
   ]
  }
 ],
 "metadata": {
  "kernelspec": {
   "display_name": "Python 3 (ipykernel)",
   "language": "python",
   "name": "python3"
  },
  "language_info": {
   "codemirror_mode": {
    "name": "ipython",
    "version": 3
   },
   "file_extension": ".py",
   "mimetype": "text/x-python",
   "name": "python",
   "nbconvert_exporter": "python",
   "pygments_lexer": "ipython3",
   "version": "3.10.12"
  }
 },
 "nbformat": 4,
 "nbformat_minor": 5
}
